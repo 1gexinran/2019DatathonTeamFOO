{
 "cells": [
  {
   "cell_type": "code",
   "execution_count": 35,
   "metadata": {},
   "outputs": [],
   "source": [
    "import pandas as pd\n",
    "import numpy as np\n",
    "from sklearn.model_selection import train_test_split\n",
    "from sklearn.ensemble import RandomForestRegressor\n",
    "from sklearn.ensemble import RandomForestClassifier\n",
    "from sklearn.model_selection import cross_val_score\n",
    "from sklearn.model_selection import cross_val_predict\n",
    "from sklearn.metrics import accuracy_score\n",
    "from sklearn.metrics import f1_score\n",
    "from sklearn.metrics import precision_recall_fscore_support\n",
    "from sklearn.neural_network import MLPRegressor\n",
    "\n",
    "\n",
    "data = pd.read_csv(\"/Users/aaron/Desktop/upkg_v2e1y5ym116v_SHEAHealth_2012_v00_CSV/Raw/SHEA_Health_Survey_public_v00.csv\")\n",
    "train = data.loc[0:799, ['houston', 'havinsur', 'sidewalks', 'hoodactiv','easyfood', 'shopshere', 'trailhere', 'buyfood', 'parkhere', 'gender', 'age', 'party', 'ethgroup', 'marriage', 'yrshere']]\n",
    "test = data.loc[800:, ['houston', 'havinsur', 'sidewalks', 'hoodactiv','easyfood', 'shopshere', 'trailhere', 'buyfood', 'parkhere', 'gender', 'age', 'party', 'ethgroup', 'marriage', 'yrshere']]"
   ]
  },
  {
   "cell_type": "code",
   "execution_count": 36,
   "metadata": {},
   "outputs": [
    {
     "data": {
      "text/plain": [
       "0.495"
      ]
     },
     "execution_count": 36,
     "metadata": {},
     "output_type": "execute_result"
    }
   ],
   "source": [
    "X = train.iloc[:,1:]\n",
    "y = train.iloc[:,0].values\n",
    "X_train, X_test, y_train, y_test = train_test_split(X, y, test_size=0.2)\n",
    "regressor = RandomForestRegressor(n_estimators = 150, max_depth = 100, random_state = 123)\n",
    "regressor.fit(X_train, y_train)\n",
    "y_pred = regressor.predict(X_test)\n",
    "Y = np.round(regressor.predict(test.iloc[:,1:]))\n",
    "true_y = np.array(test.iloc[:,0])\n",
    "accuracy_score(true_y, Y)"
   ]
  },
  {
   "cell_type": "code",
   "execution_count": 37,
   "metadata": {},
   "outputs": [
    {
     "data": {
      "text/plain": [
       "0.53"
      ]
     },
     "execution_count": 37,
     "metadata": {},
     "output_type": "execute_result"
    }
   ],
   "source": [
    "clf = MLPRegressor(solver='lbfgs', alpha=1e-5, hidden_layer_sizes=(5, 2), random_state=1)\n",
    "clf.fit(X_train, y_train)\n",
    "y_pred = clf.predict(X_test)\n",
    "Y = np.round(clf.predict(test.iloc[:,1:]))\n",
    "true_y = np.array(test.iloc[:,0])\n",
    "accuracy_score(true_y, Y)"
   ]
  },
  {
   "cell_type": "code",
   "execution_count": null,
   "metadata": {},
   "outputs": [],
   "source": []
  }
 ],
 "metadata": {
  "kernelspec": {
   "display_name": "Python 3",
   "language": "python",
   "name": "python3"
  },
  "language_info": {
   "codemirror_mode": {
    "name": "ipython",
    "version": 3
   },
   "file_extension": ".py",
   "mimetype": "text/x-python",
   "name": "python",
   "nbconvert_exporter": "python",
   "pygments_lexer": "ipython3",
   "version": "3.6.4"
  }
 },
 "nbformat": 4,
 "nbformat_minor": 2
}
